{
 "cells": [
  {
   "cell_type": "code",
   "execution_count": null,
   "id": "b931e4f3",
   "metadata": {},
   "outputs": [],
   "source": [
    "1.What are the two values of the Boolean data type? How do you write them?\n",
    "Ans)\n",
    "True and False"
   ]
  },
  {
   "cell_type": "code",
   "execution_count": null,
   "id": "1026fd19",
   "metadata": {},
   "outputs": [],
   "source": [
    "2. What are the three different types of Boolean operators?\n",
    "Ans)\n",
    "AND\n",
    "NOT\n",
    "OR"
   ]
  },
  {
   "cell_type": "code",
   "execution_count": null,
   "id": "6f0efafc",
   "metadata": {},
   "outputs": [],
   "source": [
    "3. Make a list of each Boolean operator&#39;s truth tables (i.e. every possible combination of Boolean\n",
    "values for the operator and what it evaluate ).\n",
    "Ans)\n",
    "False False False   0   0   0\n",
    "False True  False   0   1   0 \n",
    "True  False False   1   0   0\n",
    "True  True  True    1   1   1"
   ]
  },
  {
   "cell_type": "code",
   "execution_count": null,
   "id": "c2712f39",
   "metadata": {},
   "outputs": [],
   "source": [
    "4. What are the values of the following expressions?\n",
    "\n",
    "(5 > 4) and (3 == 5) - False\n",
    "not (5 > 4) - False\n",
    "(5 > 4) or (3 == 5) - True\n",
    "not ((5 &gt; 4) or (3 == 5)) - False\n",
    "(not False) or (not True) - True"
   ]
  },
  {
   "cell_type": "code",
   "execution_count": null,
   "id": "300d7378",
   "metadata": {},
   "outputs": [],
   "source": [
    "5. What are the six comparison operators?\n",
    "Ans)\n",
    "Equal  =\n",
    "Not equal !=\n",
    "greater than >\n",
    "less than <\n",
    "greater than or equal to >=\n",
    "less than or equal to <="
   ]
  },
  {
   "cell_type": "code",
   "execution_count": null,
   "id": "9b31c8cd",
   "metadata": {},
   "outputs": [],
   "source": [
    "6. How do you tell the difference between the equal to and assignment operators?Describe a\n",
    "condition and when you would use one.\n",
    "Ans)\n",
    "Equal to - it is used to compare the values on both the variables\n",
    "Assignmenr operator - it assigns the value to the variable"
   ]
  },
  {
   "cell_type": "code",
   "execution_count": null,
   "id": "a9421283",
   "metadata": {},
   "outputs": [],
   "source": [
    "7. Identify the three blocks in this code:\n",
    "spam = 0\n",
    "spam = 0\n",
    "if spam == 10:\n",
    "    print(\"eggs\")\n",
    "    if spam > 5:\n",
    "        print(\"bacon\")\n",
    "else:\n",
    "        print(\"ham\")\n",
    "        print(\"spam\")\n",
    "        print(\"spam\")\n",
    "        \n",
    "Answer: there are three blocks, 2 if blocks, and one else block.     "
   ]
  },
  {
   "cell_type": "code",
   "execution_count": null,
   "id": "d876783f",
   "metadata": {},
   "outputs": [],
   "source": [
    "8. Write code that prints Hello if 1 is stored in spam, prints Howdy if 2 is stored in spam, and prints\n",
    "Greetings! if anything else is stored in spam.\n",
    "Ans)\n",
    "spam = 2\n",
    "if spam == 1:\n",
    "    print(\"Hello\")\n",
    "    if spam == 2:\n",
    "        print(\"Howdy\")\n",
    "else:\n",
    "        print(\"Greetings\")\n",
    "output/- \"Howdy\""
   ]
  },
  {
   "cell_type": "code",
   "execution_count": null,
   "id": "1d433913",
   "metadata": {},
   "outputs": [],
   "source": [
    "9.If your programme is stuck in an endless loop, what keys you’ll press?\n",
    "Ans) \n",
    "kernel interupt key or will use break statement."
   ]
  },
  {
   "cell_type": "code",
   "execution_count": null,
   "id": "27df31b4",
   "metadata": {},
   "outputs": [],
   "source": [
    "10. How can you tell the difference between break and continue?\n",
    "Ans)\n",
    "break statement will stops the loop.\n",
    "continue statement will continue the loop."
   ]
  },
  {
   "cell_type": "code",
   "execution_count": null,
   "id": "36a7ba59",
   "metadata": {},
   "outputs": [],
   "source": [
    "11. In a for loop, what is the difference between range(10), range(0, 10), and range(0, 10, 1)?\n",
    "Ans)\n",
    "range(10) gives the values from 0 to 10 i.t 0 1 2 3 4 5 6 7 8 9\n",
    "range(0, 10) is also gives the values from 0 to 10 i.t 0 1 2 3 4 5 6 7 8 9 excluding upper value\n",
    "range(0, 10, 1) is also gives the values from 0 to 10 i.t 0 1 2 3 4 5 6 7 8 9 excluding upper value with jump 1."
   ]
  },
  {
   "cell_type": "code",
   "execution_count": null,
   "id": "fbe855ee",
   "metadata": {},
   "outputs": [],
   "source": [
    "12. Write a short program that prints the numbers 1 to 10 using a for loop. Then write an equivalent\n",
    "program that prints the numbers 1 to 10 using a while loop.\n",
    "Ans)\n",
    "for i in range(1, 11, 1):\n",
    "    print(i)\n",
    "\n",
    "i = 1\n",
    "while i<=10:\n",
    "    print(i)\n",
    "    i+=1   "
   ]
  },
  {
   "cell_type": "code",
   "execution_count": null,
   "id": "18bd921f",
   "metadata": {},
   "outputs": [],
   "source": [
    "13. If you had a function named bacon() inside a module named spam, how would you call it after\n",
    "importing spam?\n",
    "Ans)\n",
    "bacon(spam) or bacon()"
   ]
  }
 ],
 "metadata": {
  "kernelspec": {
   "display_name": "Python 3",
   "language": "python",
   "name": "python3"
  },
  "language_info": {
   "codemirror_mode": {
    "name": "ipython",
    "version": 3
   },
   "file_extension": ".py",
   "mimetype": "text/x-python",
   "name": "python",
   "nbconvert_exporter": "python",
   "pygments_lexer": "ipython3",
   "version": "3.6.13"
  }
 },
 "nbformat": 4,
 "nbformat_minor": 5
}
